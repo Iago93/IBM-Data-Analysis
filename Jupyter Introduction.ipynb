{
  "metadata": {
    "language_info": {
      "codemirror_mode": {
        "name": "python",
        "version": 3
      },
      "file_extension": ".py",
      "mimetype": "text/x-python",
      "name": "python",
      "nbconvert_exporter": "python",
      "pygments_lexer": "ipython3",
      "version": "3.8"
    },
    "kernelspec": {
      "name": "python",
      "display_name": "Pyolite",
      "language": "python"
    }
  },
  "nbformat_minor": 4,
  "nbformat": 4,
  "cells": [
    {
      "cell_type": "markdown",
      "source": "# Practice Exercise\n### Demonstrate your proficiency in using Markdown in Jupyter notebooks\n",
      "metadata": {}
    },
    {
      "cell_type": "markdown",
      "source": "#### Task 1: Create **H2 level heading** as **Welcome to Python programming** and add the image from the following **url** with alt text as **This is SN labs New Launcher**\n\n_https://cf-courses-data.s3.us.cloud-object-storage.appdomain.cloud/IBMDeveloperSkillsNetwork-DS0105EN-SkillsNetwork/labs/Labs_V4/images/Launcher.png_",
      "metadata": {}
    },
    {
      "cell_type": "markdown",
      "source": "## WELCOME TO PYTHON PROGRAMMING",
      "metadata": {}
    },
    {
      "cell_type": "markdown",
      "source": "[This is SN labs New Launcher](https://cf-courses-data.s3.us.cloud-object-storage.appdomain.cloud/IBMDeveloperSkillsNetwork-DS0105EN-SkillsNetwork/labs/Labs_V4/images/Launcher.png)",
      "metadata": {}
    },
    {
      "cell_type": "markdown",
      "source": "#### Task 2: Create the following table:\n\n <img src=\"https://cf-courses-data.s3.us.cloud-object-storage.appdomain.cloud/IBMDeveloperSkillsNetwork-DS0105EN-SkillsNetwork/labs/Labs_V4/images/table.png\">\n",
      "metadata": {}
    },
    {
      "cell_type": "markdown",
      "source": "| Fruits | Queantity | Price |\n| -------------| ------ | -------- |\n| Apple | 2 | 500 |\n| Orange | 1 | 200 |\n| Mango | 3 | 1000 |\n",
      "metadata": {}
    },
    {
      "cell_type": "markdown",
      "source": "# CHEATSHEET",
      "metadata": {}
    },
    {
      "cell_type": "markdown",
      "source": "[Cheatsheet](https://github.com/adam-p/markdown-here/wiki/Markdown-Cheatsheet)",
      "metadata": {}
    }
  ]
}