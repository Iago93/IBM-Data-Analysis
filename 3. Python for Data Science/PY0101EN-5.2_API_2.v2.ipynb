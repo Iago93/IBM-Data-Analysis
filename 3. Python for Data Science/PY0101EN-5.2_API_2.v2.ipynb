{
 "cells": [
  {
   "cell_type": "markdown",
   "metadata": {},
   "source": [
    "<center>\n",
    "    <img src=\"https://cf-courses-data.s3.us.cloud-object-storage.appdomain.cloud/assets/logos/SN_web_lightmode.png\" width=\"300\" alt=\"cognitiveclass.ai logo\">\n",
    "</center>\n",
    "\n",
    "# Simple APIs \n",
    "## Random User and Fruitvice API Examples\n",
    "\n",
    "\n",
    "Estimated time needed: **25** minutes\n",
    "\n",
    "## Objectives\n",
    "\n",
    "After completing this lab you will be able to:\n",
    "\n",
    "*   Load and use RandomUser API, using `RandomUser()` Python library\n",
    "*   Load and use Fruitvice API, using `requests` Python library\n",
    "\n"
   ]
  },
  {
   "cell_type": "markdown",
   "metadata": {},
   "source": [
    "The purpose of this notebook is to provide more examples on how to use simple APIs. As you have already learned from previous videos and notebooks, API stands for Application Programming Interface and is a software intermediary that allows two applications to talk to each other. \n",
    "\n",
    "The advantages of using APIs:\n",
    " *   **Automation**. Less human effort is required and workflows can be easily updated to become faster and more      \n",
    "     productive.\n",
    " *   **Efficiency**. It allows to use the capabilities of one of the already developed APIs than to try to \n",
    "     independently implement some functionality from scratch.\n",
    " \n",
    "The disadvantage of using APIs:\n",
    " *   **Secirity**. If the API is poorly integrated, it means it will be vulnerable to attacks, resulting in data    \n",
    "     breeches or losses having financial or reputation implications.\n",
    "\n",
    "One of the applications we will use in this notebook is Random User Generator. RandomUser is an open-source, free API providing developers with randomly generated users to be used as placeholders for testing purposes. This makes the tool similar to Lorem Ipsum, but is a placeholder for people instead of text. The API can return multiple results, as well as specify generated user details such as gender, email, image, username, address, title, first and last name, and more. More information on [RandomUser](https://randomuser.me/documentation?utm_medium=Exinfluencer&utm_source=Exinfluencer&utm_content=000026UJ&utm_term=10006555&utm_id=NA-SkillsNetwork-Channel-SkillsNetworkCoursesIBMDeveloperSkillsNetworkPY0101ENSkillsNetwork1005-2022-01-01#intro) can be found here.\n",
    "\n",
    "Another example of simple API we will use in this notebook is Fruitvice application. The Fruitvice API webservice which provides data for all kinds of fruit! You can use Fruityvice to find out interesting information about fruit and educate yourself. The webservice is completely free to use and contribute to.\n"
   ]
  },
  {
   "cell_type": "markdown",
   "metadata": {},
   "source": [
    "## Example 1: RandomUser API\n",
    "Bellow are Get Methods parameters that we can generate. For more information on the parameters, please visit this [documentation](https://randomuser.me/documentation?utm_medium=Exinfluencer&utm_source=Exinfluencer&utm_content=000026UJ&utm_term=10006555&utm_id=NA-SkillsNetwork-Channel-SkillsNetworkCoursesIBMDeveloperSkillsNetworkPY0101ENSkillsNetwork1005-2022-01-01) page.\n"
   ]
  },
  {
   "cell_type": "markdown",
   "metadata": {},
   "source": [
    "## **Get Methods**\n",
    "\n",
    "- get_cell()\n",
    "- get_city()\n",
    "- get_dob()\n",
    "- get_email()\n",
    "- get_first_name()\n",
    "- get_full_name()\n",
    "- get_gender()\n",
    "- get_id()\n",
    "- get_id_number()\n",
    "- get_id_type()\n",
    "- get_info()\n",
    "- get_last_name()\n",
    "- get_login_md5()\n",
    "- get_login_salt()\n",
    "- get_login_sha1()\n",
    "- get_login_sha256()\n",
    "- get_nat()\n",
    "- get_password()\n",
    "- get_phone()\n",
    "- get_picture()\n",
    "- get_postcode()\n",
    "- get_registered()\n",
    "- get_state()\n",
    "- get_street()\n",
    "- get_username()\n",
    "- get_zipcode()\n"
   ]
  },
  {
   "cell_type": "markdown",
   "metadata": {},
   "source": [
    "To start using the API you can install the `randomuser` library running the `pip install` command.\n"
   ]
  },
  {
   "cell_type": "code",
   "execution_count": 1,
   "metadata": {},
   "outputs": [
    {
     "name": "stdout",
     "output_type": "stream",
     "text": [
      "Collecting randomuser\n",
      "  Downloading randomuser-1.6.tar.gz (5.0 kB)\n",
      "  Preparing metadata (setup.py) ... \u001b[?25ldone\n",
      "\u001b[?25hBuilding wheels for collected packages: randomuser\n",
      "  Building wheel for randomuser (setup.py) ... \u001b[?25ldone\n",
      "\u001b[?25h  Created wheel for randomuser: filename=randomuser-1.6-py3-none-any.whl size=5067 sha256=04b6e91a684eb5c6876bccc3551ba54d3ddaa94ec30557e77c345ce09e64caae\n",
      "  Stored in directory: /home/jupyterlab/.cache/pip/wheels/f8/a9/23/1df3ef7a5177d99b4cba8fa52415e1360bde68f520c2a0e489\n",
      "Successfully built randomuser\n",
      "Installing collected packages: randomuser\n",
      "Successfully installed randomuser-1.6\n"
     ]
    }
   ],
   "source": [
    "!pip install randomuser"
   ]
  },
  {
   "cell_type": "markdown",
   "metadata": {},
   "source": [
    "Then, we will load the necessary libraries.\n"
   ]
  },
  {
   "cell_type": "code",
   "execution_count": 2,
   "metadata": {},
   "outputs": [],
   "source": [
    "from randomuser import RandomUser\n",
    "import pandas as pd"
   ]
  },
  {
   "cell_type": "markdown",
   "metadata": {},
   "source": [
    "First, we will create a random user object, r.\n"
   ]
  },
  {
   "cell_type": "code",
   "execution_count": 5,
   "metadata": {},
   "outputs": [
    {
     "data": {
      "text/plain": [
       "randomuser.RandomUser"
      ]
     },
     "execution_count": 5,
     "metadata": {},
     "output_type": "execute_result"
    }
   ],
   "source": [
    "r = RandomUser()\n",
    "type(r)"
   ]
  },
  {
   "cell_type": "markdown",
   "metadata": {},
   "source": [
    "Then, using `generate_users()` function, we get a list of random 10 users.\n"
   ]
  },
  {
   "cell_type": "code",
   "execution_count": 6,
   "metadata": {},
   "outputs": [],
   "source": [
    "some_list = r.generate_users(10)"
   ]
  },
  {
   "cell_type": "code",
   "execution_count": 7,
   "metadata": {},
   "outputs": [
    {
     "data": {
      "text/plain": [
       "[<randomuser.RandomUser at 0x7f3bcd235890>,\n",
       " <randomuser.RandomUser at 0x7f3bcd2358d0>,\n",
       " <randomuser.RandomUser at 0x7f3bcd235910>,\n",
       " <randomuser.RandomUser at 0x7f3bcd235950>,\n",
       " <randomuser.RandomUser at 0x7f3bcd235990>,\n",
       " <randomuser.RandomUser at 0x7f3bcd235a10>,\n",
       " <randomuser.RandomUser at 0x7f3bcd235a50>,\n",
       " <randomuser.RandomUser at 0x7f3bcd235a90>,\n",
       " <randomuser.RandomUser at 0x7f3bcd235ad0>,\n",
       " <randomuser.RandomUser at 0x7f3bcd2359d0>]"
      ]
     },
     "execution_count": 7,
     "metadata": {},
     "output_type": "execute_result"
    }
   ],
   "source": [
    "some_list"
   ]
  },
  {
   "cell_type": "markdown",
   "metadata": {},
   "source": [
    "The **\"Get Methods\"** functions mentioned at the beginning of this notebook, can generate the required parameters to construct a dataset. For example, to get full name, we call `get_full_name()` function.\n"
   ]
  },
  {
   "cell_type": "code",
   "execution_count": 8,
   "metadata": {},
   "outputs": [],
   "source": [
    "name = r.get_full_name()"
   ]
  },
  {
   "cell_type": "markdown",
   "metadata": {},
   "source": [
    "Let's say we only need 10 users with full names and their email addresses. We can write a \"for-loop\" to print these 10 users.\n"
   ]
  },
  {
   "cell_type": "code",
   "execution_count": 9,
   "metadata": {},
   "outputs": [
    {
     "name": "stdout",
     "output_type": "stream",
     "text": [
      "Kuzey Elçiboğa   kuzey.elciboga@example.com\n",
      "Javier Sanchez   javier.sanchez@example.com\n",
      "Meinhard Feldhaus   meinhard.feldhaus@example.com\n",
      "Judy Thomas   judy.thomas@example.com\n",
      "Mark Griffin   mark.griffin@example.com\n",
      "Desiree Ribbens   desiree.ribbens@example.com\n",
      "Matthew Fortin   matthew.fortin@example.com\n",
      "Rose Wood   rose.wood@example.com\n",
      "Kadir Ilıcalı   kadir.ilicali@example.com\n",
      "Nicole Sanchez   nicole.sanchez@example.com\n"
     ]
    }
   ],
   "source": [
    "for user in some_list:\n",
    "    print (user.get_full_name(),\" \",user.get_email())"
   ]
  },
  {
   "cell_type": "markdown",
   "metadata": {},
   "source": [
    "## Exercise 1\n",
    "In this Exercise, generate photos of the random 5 users.\n"
   ]
  },
  {
   "cell_type": "code",
   "execution_count": 10,
   "metadata": {},
   "outputs": [
    {
     "name": "stdout",
     "output_type": "stream",
     "text": [
      "https://randomuser.me/api/portraits/men/5.jpg\n",
      "https://randomuser.me/api/portraits/men/73.jpg\n",
      "https://randomuser.me/api/portraits/men/87.jpg\n",
      "https://randomuser.me/api/portraits/women/51.jpg\n",
      "https://randomuser.me/api/portraits/men/28.jpg\n",
      "https://randomuser.me/api/portraits/women/28.jpg\n",
      "https://randomuser.me/api/portraits/men/59.jpg\n",
      "https://randomuser.me/api/portraits/women/17.jpg\n",
      "https://randomuser.me/api/portraits/men/74.jpg\n",
      "https://randomuser.me/api/portraits/women/46.jpg\n"
     ]
    }
   ],
   "source": [
    "## Write your code here\n",
    "for user in some_list:\n",
    "    print (user.get_picture())"
   ]
  },
  {
   "cell_type": "markdown",
   "metadata": {},
   "source": [
    "<details><summary>Click here for the solution</summary>\n",
    "\n",
    "```python\n",
    "for user in some_list:\n",
    "    print (user.get_picture())\n",
    "```\n",
    "\n",
    "</details>\n"
   ]
  },
  {
   "cell_type": "markdown",
   "metadata": {},
   "source": [
    "To generate a table with information about the users, we can write a function containing all desirable parameters. For example, name, gender, city, etc. The parameters will depend on the requirements of the test to be performed. We call the Get Methods, listed at the beginning of this notebook. Then, we return pandas dataframe with the users.\n"
   ]
  },
  {
   "cell_type": "code",
   "execution_count": 11,
   "metadata": {},
   "outputs": [],
   "source": [
    "def get_users():\n",
    "    users =[]\n",
    "     \n",
    "    for user in RandomUser.generate_users(10):\n",
    "        users.append({\"Name\":user.get_full_name(),\"Gender\":user.get_gender(),\"City\":user.get_city(),\"State\":user.get_state(),\"Email\":user.get_email(), \"DOB\":user.get_dob(),\"Picture\":user.get_picture()})\n",
    "      \n",
    "    return pd.DataFrame(users)     "
   ]
  },
  {
   "cell_type": "code",
   "execution_count": 14,
   "metadata": {},
   "outputs": [
    {
     "data": {
      "text/html": [
       "<div>\n",
       "<style scoped>\n",
       "    .dataframe tbody tr th:only-of-type {\n",
       "        vertical-align: middle;\n",
       "    }\n",
       "\n",
       "    .dataframe tbody tr th {\n",
       "        vertical-align: top;\n",
       "    }\n",
       "\n",
       "    .dataframe thead th {\n",
       "        text-align: right;\n",
       "    }\n",
       "</style>\n",
       "<table border=\"1\" class=\"dataframe\">\n",
       "  <thead>\n",
       "    <tr style=\"text-align: right;\">\n",
       "      <th></th>\n",
       "      <th>Name</th>\n",
       "      <th>Gender</th>\n",
       "      <th>City</th>\n",
       "      <th>State</th>\n",
       "      <th>Email</th>\n",
       "      <th>DOB</th>\n",
       "      <th>Picture</th>\n",
       "    </tr>\n",
       "  </thead>\n",
       "  <tbody>\n",
       "    <tr>\n",
       "      <th>0</th>\n",
       "      <td>Hannah Chen</td>\n",
       "      <td>female</td>\n",
       "      <td>Dunedin</td>\n",
       "      <td>Otago</td>\n",
       "      <td>hannah.chen@example.com</td>\n",
       "      <td>1997-01-26T20:46:10.760Z</td>\n",
       "      <td>https://randomuser.me/api/portraits/women/69.jpg</td>\n",
       "    </tr>\n",
       "    <tr>\n",
       "      <th>1</th>\n",
       "      <td>Teófilo Gomes</td>\n",
       "      <td>male</td>\n",
       "      <td>Simões Filho</td>\n",
       "      <td>Rio de Janeiro</td>\n",
       "      <td>teofilo.gomes@example.com</td>\n",
       "      <td>1964-08-16T11:45:28.880Z</td>\n",
       "      <td>https://randomuser.me/api/portraits/men/33.jpg</td>\n",
       "    </tr>\n",
       "    <tr>\n",
       "      <th>2</th>\n",
       "      <td>Babak Groenevelt</td>\n",
       "      <td>male</td>\n",
       "      <td>Ruurlo</td>\n",
       "      <td>Groningen</td>\n",
       "      <td>babak.groenevelt@example.com</td>\n",
       "      <td>1975-11-09T00:10:35.184Z</td>\n",
       "      <td>https://randomuser.me/api/portraits/men/74.jpg</td>\n",
       "    </tr>\n",
       "    <tr>\n",
       "      <th>3</th>\n",
       "      <td>Önal Mertoğlu</td>\n",
       "      <td>male</td>\n",
       "      <td>Çanakkale</td>\n",
       "      <td>Burdur</td>\n",
       "      <td>onal.mertoglu@example.com</td>\n",
       "      <td>1983-03-07T23:07:01.142Z</td>\n",
       "      <td>https://randomuser.me/api/portraits/men/97.jpg</td>\n",
       "    </tr>\n",
       "    <tr>\n",
       "      <th>4</th>\n",
       "      <td>مهدي حسینی</td>\n",
       "      <td>male</td>\n",
       "      <td>شهریار</td>\n",
       "      <td>تهران</td>\n",
       "      <td>mhdy.hsyny@example.com</td>\n",
       "      <td>1962-02-12T02:29:46.949Z</td>\n",
       "      <td>https://randomuser.me/api/portraits/men/39.jpg</td>\n",
       "    </tr>\n",
       "    <tr>\n",
       "      <th>5</th>\n",
       "      <td>Milly Ahmad</td>\n",
       "      <td>female</td>\n",
       "      <td>Vanvikan</td>\n",
       "      <td>Telemark</td>\n",
       "      <td>milly.ahmad@example.com</td>\n",
       "      <td>1994-07-25T16:01:53.472Z</td>\n",
       "      <td>https://randomuser.me/api/portraits/women/76.jpg</td>\n",
       "    </tr>\n",
       "    <tr>\n",
       "      <th>6</th>\n",
       "      <td>Giray Çetiner</td>\n",
       "      <td>male</td>\n",
       "      <td>Tekirdağ</td>\n",
       "      <td>Çankırı</td>\n",
       "      <td>giray.cetiner@example.com</td>\n",
       "      <td>1977-12-20T11:13:24.187Z</td>\n",
       "      <td>https://randomuser.me/api/portraits/men/96.jpg</td>\n",
       "    </tr>\n",
       "    <tr>\n",
       "      <th>7</th>\n",
       "      <td>Noham Blanchard</td>\n",
       "      <td>male</td>\n",
       "      <td>Bordeaux</td>\n",
       "      <td>Drôme</td>\n",
       "      <td>noham.blanchard@example.com</td>\n",
       "      <td>1978-05-27T23:14:43.743Z</td>\n",
       "      <td>https://randomuser.me/api/portraits/men/7.jpg</td>\n",
       "    </tr>\n",
       "    <tr>\n",
       "      <th>8</th>\n",
       "      <td>Mahdi Mahamud</td>\n",
       "      <td>male</td>\n",
       "      <td>Hermansverk</td>\n",
       "      <td>Oppland</td>\n",
       "      <td>mahdi.mahamud@example.com</td>\n",
       "      <td>1978-02-22T04:18:12.441Z</td>\n",
       "      <td>https://randomuser.me/api/portraits/men/28.jpg</td>\n",
       "    </tr>\n",
       "    <tr>\n",
       "      <th>9</th>\n",
       "      <td>Hudson Singh</td>\n",
       "      <td>male</td>\n",
       "      <td>Borden</td>\n",
       "      <td>Ontario</td>\n",
       "      <td>hudson.singh@example.com</td>\n",
       "      <td>1977-12-19T05:44:21.656Z</td>\n",
       "      <td>https://randomuser.me/api/portraits/men/2.jpg</td>\n",
       "    </tr>\n",
       "  </tbody>\n",
       "</table>\n",
       "</div>"
      ],
      "text/plain": [
       "               Name  Gender          City           State  \\\n",
       "0       Hannah Chen  female       Dunedin           Otago   \n",
       "1     Teófilo Gomes    male  Simões Filho  Rio de Janeiro   \n",
       "2  Babak Groenevelt    male        Ruurlo       Groningen   \n",
       "3     Önal Mertoğlu    male     Çanakkale          Burdur   \n",
       "4        مهدي حسینی    male        شهریار           تهران   \n",
       "5       Milly Ahmad  female      Vanvikan        Telemark   \n",
       "6     Giray Çetiner    male      Tekirdağ         Çankırı   \n",
       "7   Noham Blanchard    male      Bordeaux           Drôme   \n",
       "8     Mahdi Mahamud    male   Hermansverk         Oppland   \n",
       "9      Hudson Singh    male        Borden         Ontario   \n",
       "\n",
       "                          Email                       DOB  \\\n",
       "0       hannah.chen@example.com  1997-01-26T20:46:10.760Z   \n",
       "1     teofilo.gomes@example.com  1964-08-16T11:45:28.880Z   \n",
       "2  babak.groenevelt@example.com  1975-11-09T00:10:35.184Z   \n",
       "3     onal.mertoglu@example.com  1983-03-07T23:07:01.142Z   \n",
       "4        mhdy.hsyny@example.com  1962-02-12T02:29:46.949Z   \n",
       "5       milly.ahmad@example.com  1994-07-25T16:01:53.472Z   \n",
       "6     giray.cetiner@example.com  1977-12-20T11:13:24.187Z   \n",
       "7   noham.blanchard@example.com  1978-05-27T23:14:43.743Z   \n",
       "8     mahdi.mahamud@example.com  1978-02-22T04:18:12.441Z   \n",
       "9      hudson.singh@example.com  1977-12-19T05:44:21.656Z   \n",
       "\n",
       "                                            Picture  \n",
       "0  https://randomuser.me/api/portraits/women/69.jpg  \n",
       "1    https://randomuser.me/api/portraits/men/33.jpg  \n",
       "2    https://randomuser.me/api/portraits/men/74.jpg  \n",
       "3    https://randomuser.me/api/portraits/men/97.jpg  \n",
       "4    https://randomuser.me/api/portraits/men/39.jpg  \n",
       "5  https://randomuser.me/api/portraits/women/76.jpg  \n",
       "6    https://randomuser.me/api/portraits/men/96.jpg  \n",
       "7     https://randomuser.me/api/portraits/men/7.jpg  \n",
       "8    https://randomuser.me/api/portraits/men/28.jpg  \n",
       "9     https://randomuser.me/api/portraits/men/2.jpg  "
      ]
     },
     "execution_count": 14,
     "metadata": {},
     "output_type": "execute_result"
    }
   ],
   "source": [
    "get_users()"
   ]
  },
  {
   "cell_type": "code",
   "execution_count": 15,
   "metadata": {},
   "outputs": [],
   "source": [
    "df1 = pd.DataFrame(get_users())  "
   ]
  },
  {
   "cell_type": "markdown",
   "metadata": {},
   "source": [
    "Now we have a *pandas* dataframe that can be used for any testing purposes that the tester might have.\n"
   ]
  },
  {
   "cell_type": "markdown",
   "metadata": {},
   "source": [
    "## Example 2: Fruitvice API\n",
    "\n",
    "Another, more common way to use APIs, is through `requests` library. The next lab, Requests and HTTP, will contain more information about requests.\n",
    "\n",
    "We will start by importing all required libraries.\n"
   ]
  },
  {
   "cell_type": "code",
   "execution_count": 17,
   "metadata": {},
   "outputs": [],
   "source": [
    "import requests\n",
    "import json"
   ]
  },
  {
   "cell_type": "markdown",
   "metadata": {},
   "source": [
    "We will obtain the [fruitvice](https://www.fruityvice.com/?utm_medium=Exinfluencer&utm_source=Exinfluencer&utm_content=000026UJ&utm_term=10006555&utm_id=NA-SkillsNetwork-Channel-SkillsNetworkCoursesIBMDeveloperSkillsNetworkPY0101ENSkillsNetwork1005-2022-01-01) API data using `requests.get(\"url\")` function. The data is in a json format.\n"
   ]
  },
  {
   "cell_type": "code",
   "execution_count": 20,
   "metadata": {},
   "outputs": [],
   "source": [
    "data = requests.get(\"https://fruityvice.com/api/fruit/all\")"
   ]
  },
  {
   "cell_type": "markdown",
   "metadata": {},
   "source": [
    "We will retrieve results using `json.loads()` function.\n"
   ]
  },
  {
   "cell_type": "code",
   "execution_count": 25,
   "metadata": {},
   "outputs": [],
   "source": [
    "results = json.loads(data.text)"
   ]
  },
  {
   "cell_type": "markdown",
   "metadata": {},
   "source": [
    "We will convert our json data into *pandas* data frame. \n"
   ]
  },
  {
   "cell_type": "code",
   "execution_count": 27,
   "metadata": {},
   "outputs": [
    {
     "data": {
      "text/html": [
       "<div>\n",
       "<style scoped>\n",
       "    .dataframe tbody tr th:only-of-type {\n",
       "        vertical-align: middle;\n",
       "    }\n",
       "\n",
       "    .dataframe tbody tr th {\n",
       "        vertical-align: top;\n",
       "    }\n",
       "\n",
       "    .dataframe thead th {\n",
       "        text-align: right;\n",
       "    }\n",
       "</style>\n",
       "<table border=\"1\" class=\"dataframe\">\n",
       "  <thead>\n",
       "    <tr style=\"text-align: right;\">\n",
       "      <th></th>\n",
       "      <th>name</th>\n",
       "      <th>id</th>\n",
       "      <th>family</th>\n",
       "      <th>order</th>\n",
       "      <th>genus</th>\n",
       "      <th>nutritions</th>\n",
       "    </tr>\n",
       "  </thead>\n",
       "  <tbody>\n",
       "    <tr>\n",
       "      <th>0</th>\n",
       "      <td>Persimmon</td>\n",
       "      <td>52</td>\n",
       "      <td>Ebenaceae</td>\n",
       "      <td>Rosales</td>\n",
       "      <td>Diospyros</td>\n",
       "      <td>{'calories': 81, 'fat': 0.0, 'sugar': 18.0, 'c...</td>\n",
       "    </tr>\n",
       "    <tr>\n",
       "      <th>1</th>\n",
       "      <td>Strawberry</td>\n",
       "      <td>3</td>\n",
       "      <td>Rosaceae</td>\n",
       "      <td>Rosales</td>\n",
       "      <td>Fragaria</td>\n",
       "      <td>{'calories': 29, 'fat': 0.4, 'sugar': 5.4, 'ca...</td>\n",
       "    </tr>\n",
       "    <tr>\n",
       "      <th>2</th>\n",
       "      <td>Banana</td>\n",
       "      <td>1</td>\n",
       "      <td>Musaceae</td>\n",
       "      <td>Zingiberales</td>\n",
       "      <td>Musa</td>\n",
       "      <td>{'calories': 96, 'fat': 0.2, 'sugar': 17.2, 'c...</td>\n",
       "    </tr>\n",
       "    <tr>\n",
       "      <th>3</th>\n",
       "      <td>Tomato</td>\n",
       "      <td>5</td>\n",
       "      <td>Solanaceae</td>\n",
       "      <td>Solanales</td>\n",
       "      <td>Solanum</td>\n",
       "      <td>{'calories': 74, 'fat': 0.2, 'sugar': 2.6, 'ca...</td>\n",
       "    </tr>\n",
       "    <tr>\n",
       "      <th>4</th>\n",
       "      <td>Pear</td>\n",
       "      <td>4</td>\n",
       "      <td>Rosaceae</td>\n",
       "      <td>Rosales</td>\n",
       "      <td>Pyrus</td>\n",
       "      <td>{'calories': 57, 'fat': 0.1, 'sugar': 10.0, 'c...</td>\n",
       "    </tr>\n",
       "  </tbody>\n",
       "</table>\n",
       "</div>"
      ],
      "text/plain": [
       "         name  id      family         order      genus  \\\n",
       "0   Persimmon  52   Ebenaceae       Rosales  Diospyros   \n",
       "1  Strawberry   3    Rosaceae       Rosales   Fragaria   \n",
       "2      Banana   1    Musaceae  Zingiberales       Musa   \n",
       "3      Tomato   5  Solanaceae     Solanales    Solanum   \n",
       "4        Pear   4    Rosaceae       Rosales      Pyrus   \n",
       "\n",
       "                                          nutritions  \n",
       "0  {'calories': 81, 'fat': 0.0, 'sugar': 18.0, 'c...  \n",
       "1  {'calories': 29, 'fat': 0.4, 'sugar': 5.4, 'ca...  \n",
       "2  {'calories': 96, 'fat': 0.2, 'sugar': 17.2, 'c...  \n",
       "3  {'calories': 74, 'fat': 0.2, 'sugar': 2.6, 'ca...  \n",
       "4  {'calories': 57, 'fat': 0.1, 'sugar': 10.0, 'c...  "
      ]
     },
     "execution_count": 27,
     "metadata": {},
     "output_type": "execute_result"
    }
   ],
   "source": [
    "df=pd.DataFrame(results)\n",
    "df.head()"
   ]
  },
  {
   "cell_type": "markdown",
   "metadata": {},
   "source": [
    "The result is in a nested json format. The 'nutrition' column contains multiple subcolumns, so the data needs to be 'flattened' or normalized.\n"
   ]
  },
  {
   "cell_type": "code",
   "execution_count": 28,
   "metadata": {},
   "outputs": [],
   "source": [
    "df2 = pd.json_normalize(results)"
   ]
  },
  {
   "cell_type": "code",
   "execution_count": 30,
   "metadata": {},
   "outputs": [
    {
     "data": {
      "text/html": [
       "<div>\n",
       "<style scoped>\n",
       "    .dataframe tbody tr th:only-of-type {\n",
       "        vertical-align: middle;\n",
       "    }\n",
       "\n",
       "    .dataframe tbody tr th {\n",
       "        vertical-align: top;\n",
       "    }\n",
       "\n",
       "    .dataframe thead th {\n",
       "        text-align: right;\n",
       "    }\n",
       "</style>\n",
       "<table border=\"1\" class=\"dataframe\">\n",
       "  <thead>\n",
       "    <tr style=\"text-align: right;\">\n",
       "      <th></th>\n",
       "      <th>name</th>\n",
       "      <th>id</th>\n",
       "      <th>family</th>\n",
       "      <th>order</th>\n",
       "      <th>genus</th>\n",
       "      <th>nutritions.calories</th>\n",
       "      <th>nutritions.fat</th>\n",
       "      <th>nutritions.sugar</th>\n",
       "      <th>nutritions.carbohydrates</th>\n",
       "      <th>nutritions.protein</th>\n",
       "    </tr>\n",
       "  </thead>\n",
       "  <tbody>\n",
       "    <tr>\n",
       "      <th>0</th>\n",
       "      <td>Persimmon</td>\n",
       "      <td>52</td>\n",
       "      <td>Ebenaceae</td>\n",
       "      <td>Rosales</td>\n",
       "      <td>Diospyros</td>\n",
       "      <td>81</td>\n",
       "      <td>0.0</td>\n",
       "      <td>18.0</td>\n",
       "      <td>18.0</td>\n",
       "      <td>0.0</td>\n",
       "    </tr>\n",
       "    <tr>\n",
       "      <th>1</th>\n",
       "      <td>Strawberry</td>\n",
       "      <td>3</td>\n",
       "      <td>Rosaceae</td>\n",
       "      <td>Rosales</td>\n",
       "      <td>Fragaria</td>\n",
       "      <td>29</td>\n",
       "      <td>0.4</td>\n",
       "      <td>5.4</td>\n",
       "      <td>5.5</td>\n",
       "      <td>0.8</td>\n",
       "    </tr>\n",
       "    <tr>\n",
       "      <th>2</th>\n",
       "      <td>Banana</td>\n",
       "      <td>1</td>\n",
       "      <td>Musaceae</td>\n",
       "      <td>Zingiberales</td>\n",
       "      <td>Musa</td>\n",
       "      <td>96</td>\n",
       "      <td>0.2</td>\n",
       "      <td>17.2</td>\n",
       "      <td>22.0</td>\n",
       "      <td>1.0</td>\n",
       "    </tr>\n",
       "    <tr>\n",
       "      <th>3</th>\n",
       "      <td>Tomato</td>\n",
       "      <td>5</td>\n",
       "      <td>Solanaceae</td>\n",
       "      <td>Solanales</td>\n",
       "      <td>Solanum</td>\n",
       "      <td>74</td>\n",
       "      <td>0.2</td>\n",
       "      <td>2.6</td>\n",
       "      <td>3.9</td>\n",
       "      <td>0.9</td>\n",
       "    </tr>\n",
       "    <tr>\n",
       "      <th>4</th>\n",
       "      <td>Pear</td>\n",
       "      <td>4</td>\n",
       "      <td>Rosaceae</td>\n",
       "      <td>Rosales</td>\n",
       "      <td>Pyrus</td>\n",
       "      <td>57</td>\n",
       "      <td>0.1</td>\n",
       "      <td>10.0</td>\n",
       "      <td>15.0</td>\n",
       "      <td>0.4</td>\n",
       "    </tr>\n",
       "  </tbody>\n",
       "</table>\n",
       "</div>"
      ],
      "text/plain": [
       "         name  id      family         order      genus  nutritions.calories  \\\n",
       "0   Persimmon  52   Ebenaceae       Rosales  Diospyros                   81   \n",
       "1  Strawberry   3    Rosaceae       Rosales   Fragaria                   29   \n",
       "2      Banana   1    Musaceae  Zingiberales       Musa                   96   \n",
       "3      Tomato   5  Solanaceae     Solanales    Solanum                   74   \n",
       "4        Pear   4    Rosaceae       Rosales      Pyrus                   57   \n",
       "\n",
       "   nutritions.fat  nutritions.sugar  nutritions.carbohydrates  \\\n",
       "0             0.0              18.0                      18.0   \n",
       "1             0.4               5.4                       5.5   \n",
       "2             0.2              17.2                      22.0   \n",
       "3             0.2               2.6                       3.9   \n",
       "4             0.1              10.0                      15.0   \n",
       "\n",
       "   nutritions.protein  \n",
       "0                 0.0  \n",
       "1                 0.8  \n",
       "2                 1.0  \n",
       "3                 0.9  \n",
       "4                 0.4  "
      ]
     },
     "execution_count": 30,
     "metadata": {},
     "output_type": "execute_result"
    }
   ],
   "source": [
    "df2.head()"
   ]
  },
  {
   "cell_type": "markdown",
   "metadata": {},
   "source": [
    "Let's see if we can extract some information from this dataframe. Perhaps, we need to know the family and genus of a cherry.\n"
   ]
  },
  {
   "cell_type": "code",
   "execution_count": 38,
   "metadata": {},
   "outputs": [
    {
     "data": {
      "text/plain": [
       "('Rosaceae', 'Prunus')"
      ]
     },
     "execution_count": 38,
     "metadata": {},
     "output_type": "execute_result"
    }
   ],
   "source": [
    "cherry = df2.loc[df2[\"name\"] == 'Cherry']\n",
    "(cherry.iloc[0]['family']) , (cherry.iloc[0]['genus'])"
   ]
  },
  {
   "cell_type": "markdown",
   "metadata": {},
   "source": [
    "## Exercise 2\n",
    "In this Exercise, find out how many calories are contained in a banana.\n"
   ]
  },
  {
   "cell_type": "code",
   "execution_count": 43,
   "metadata": {},
   "outputs": [
    {
     "data": {
      "text/plain": [
       "96"
      ]
     },
     "execution_count": 43,
     "metadata": {},
     "output_type": "execute_result"
    }
   ],
   "source": [
    "# Write your code here\n",
    "Banana = df2.loc[df2[\"name\"] == 'Banana']\n",
    "\n",
    "Banana.iloc[0]['nutritions.calories']"
   ]
  },
  {
   "cell_type": "markdown",
   "metadata": {},
   "source": [
    "<details><summary>Click here for the solution</summary>\n",
    "\n",
    "```python\n",
    "cal_banana = df2.loc[df2[\"name\"] == 'Banana']\n",
    "cal_banana.iloc[0]['nutritions.calories']\n",
    "```\n",
    "\n",
    "</details>\n"
   ]
  },
  {
   "cell_type": "markdown",
   "metadata": {},
   "source": [
    "## Exercise 3\n",
    "\n",
    "This [page](https://github.com/public-apis/public-apis#animals) contains a list of free public APIs. Choose any API of your interest and use it to load/extract some information, as shown in the example above.\n",
    "1. Using `requests.get(\"url\")` function, load your data.\n"
   ]
  },
  {
   "cell_type": "code",
   "execution_count": 44,
   "metadata": {},
   "outputs": [],
   "source": [
    "# Write your code here\n",
    "data2 = requests.get(\"https://www.fishwatch.gov/api/species\")"
   ]
  },
  {
   "cell_type": "markdown",
   "metadata": {},
   "source": [
    "<details><summary>Click here for the solution</summary>\n",
    "\n",
    "```python\n",
    "data2 = requests.get(\"https://www.fishwatch.gov/api/species\")\n",
    "```\n",
    "\n",
    "</details>\n"
   ]
  },
  {
   "cell_type": "markdown",
   "metadata": {},
   "source": [
    "2. Retrieve results using `json.loads()` function.\n"
   ]
  },
  {
   "cell_type": "code",
   "execution_count": 48,
   "metadata": {},
   "outputs": [],
   "source": [
    "# Write your code here\n",
    "results2=json.loads(data2.text)"
   ]
  },
  {
   "cell_type": "markdown",
   "metadata": {},
   "source": [
    "<details><summary>Click here for the solution</summary>\n",
    "\n",
    "```python\n",
    "results2 = json.loads(data2.text)\n",
    "```\n",
    "\n",
    "</details>\n"
   ]
  },
  {
   "cell_type": "markdown",
   "metadata": {},
   "source": [
    "3. Convert json data into *pandas* data frame. \n"
   ]
  },
  {
   "cell_type": "code",
   "execution_count": 47,
   "metadata": {},
   "outputs": [],
   "source": [
    "# Write your code here\n",
    "df3 = pd.DataFrame(results2)\n",
    "df3"
   ]
  },
  {
   "cell_type": "markdown",
   "metadata": {},
   "source": [
    "<details><summary>Click here for the solution</summary>\n",
    "\n",
    "```python\n",
    "df3 = pd.DataFrame(results2)\n",
    "df3\n",
    "```\n",
    "\n",
    "</details>\n"
   ]
  },
  {
   "cell_type": "markdown",
   "metadata": {},
   "source": [
    "# Congratulations! - You have completed the lab\n"
   ]
  },
  {
   "cell_type": "markdown",
   "metadata": {},
   "source": [
    "## Author\n",
    "[Svitlana Kramar](www.linkedin.com/in/svitlana-kramar)\n",
    "\n",
    "\n",
    "Svitlana is a master’s degree Data Science and Analytics student at University of Calgary, who enjoys travelling, learning new languages and cultures and loves spreading her passion for Data Science.\n"
   ]
  },
  {
   "cell_type": "markdown",
   "metadata": {},
   "source": [
    "                                Copyright © 2020 IBM Corporation. All rights reserved.\n"
   ]
  }
 ],
 "metadata": {
  "kernelspec": {
   "display_name": "Python",
   "language": "python",
   "name": "conda-env-python-py"
  },
  "language_info": {
   "codemirror_mode": {
    "name": "ipython",
    "version": 3
   },
   "file_extension": ".py",
   "mimetype": "text/x-python",
   "name": "python",
   "nbconvert_exporter": "python",
   "pygments_lexer": "ipython3",
   "version": "3.7.12"
  }
 },
 "nbformat": 4,
 "nbformat_minor": 4
}
